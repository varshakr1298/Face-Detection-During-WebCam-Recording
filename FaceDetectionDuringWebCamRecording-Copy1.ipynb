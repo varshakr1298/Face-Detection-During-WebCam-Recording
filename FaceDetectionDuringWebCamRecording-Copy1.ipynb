{
 "cells": [
  {
   "cell_type": "code",
   "execution_count": 1,
   "metadata": {},
   "outputs": [],
   "source": [
    "import cv2\n",
    "import numpy as np"
   ]
  },
  {
   "cell_type": "code",
   "execution_count": 2,
   "metadata": {},
   "outputs": [],
   "source": [
    "face_cascade=cv2.CascadeClassifier('haarcascades/haarcascade_frontalface_default.xml')\n",
    "font = cv2.FONT_HERSHEY_SIMPLEX"
   ]
  },
  {
   "cell_type": "code",
   "execution_count": 3,
   "metadata": {},
   "outputs": [],
   "source": [
    "import cv2\n",
    "\n",
    "cap = cv2.VideoCapture(0)\n",
    "\n",
    "while True:\n",
    "\tret, frame = cap.read()                        # Reading the Frame\n",
    "\tfaces = face_cascade.detectMultiScale(frame,1.3,5)\n",
    "\tfor (x,y,w,h) in faces:\n",
    "\t\tcv2.putText(frame,'Face',(x,y), font, 1,(0,0,255),2)\n",
    "\t\tcv2.rectangle(frame,(x,y),((x + w),(y + h)),(255,0,0),3)    \n",
    "\tcv2.imshow('result', frame)\n",
    "\tif cv2.waitKey(33) == 27:\n",
    "\t\tbreak;\n",
    "cap.release()\n",
    "cv2.destroyAllWindows()"
   ]
  }
 ],
 "metadata": {
  "kernelspec": {
   "display_name": "Python 3",
   "language": "python",
   "name": "python3"
  },
  "language_info": {
   "codemirror_mode": {
    "name": "ipython",
    "version": 3
   },
   "file_extension": ".py",
   "mimetype": "text/x-python",
   "name": "python",
   "nbconvert_exporter": "python",
   "pygments_lexer": "ipython3",
   "version": "3.7.2"
  }
 },
 "nbformat": 4,
 "nbformat_minor": 2
}
